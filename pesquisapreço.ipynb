{
  "nbformat": 4,
  "nbformat_minor": 0,
  "metadata": {
    "colab": {
      "provenance": [],
      "mount_file_id": "1Wew3iCgszlwbnzkkJa7kvlAkutCnEVbl",
      "authorship_tag": "ABX9TyPNDryYrqXH94ixFXjXirgj",
      "include_colab_link": true
    },
    "kernelspec": {
      "name": "python3",
      "display_name": "Python 3"
    },
    "language_info": {
      "name": "python"
    }
  },
  "cells": [
    {
      "cell_type": "markdown",
      "metadata": {
        "id": "view-in-github",
        "colab_type": "text"
      },
      "source": [
        "<a href=\"https://colab.research.google.com/github/JuTsgo01/Tratamento-de-dados/blob/main/pesquisapre%C3%A7o.ipynb\" target=\"_parent\"><img src=\"https://colab.research.google.com/assets/colab-badge.svg\" alt=\"Open In Colab\"/></a>"
      ]
    },
    {
      "cell_type": "code",
      "source": [
        "import pandas as pd"
      ],
      "metadata": {
        "id": "VvXTyvrpXMV4"
      },
      "execution_count": null,
      "outputs": []
    },
    {
      "cell_type": "code",
      "source": [
        "sheet_lojas_path = \"/content/drive/MyDrive/ESTUDOS/Lojas.xlsx\"\n",
        "sheet_pib_municipios_path = '/content/drive/MyDrive/ESTUDOS/pib_municipios.xlsx'\n",
        "sheet_populacao_municipios_path = '/content/drive/MyDrive/ESTUDOS/populacao_municipios.xlsx'"
      ],
      "metadata": {
        "id": "OsK7-9Vrc8v3"
      },
      "execution_count": null,
      "outputs": []
    },
    {
      "cell_type": "markdown",
      "source": [
        "Lendo e tratando a planilha de lojas"
      ],
      "metadata": {
        "id": "vCjLe8rAcjaL"
      }
    },
    {
      "cell_type": "code",
      "source": [
        "pib_municipios = pd.read_excel(sheet_pib_municipios_path)\n",
        "pop_municipios = pd.read_excel(sheet_populacao_municipios_path)\n",
        "lojas = pd.read_excel(sheet_lojas_path)\n",
        "lojas = lojas.dropna()\n"
      ],
      "metadata": {
        "id": "hiJpVeFKPuho"
      },
      "execution_count": null,
      "outputs": []
    },
    {
      "cell_type": "markdown",
      "source": [
        "Juntando pib e população em uma só planilhas de acordo com a CIdade"
      ],
      "metadata": {
        "id": "K-aRteHSeO9t"
      }
    },
    {
      "cell_type": "code",
      "source": [
        "dados_municipios = pib_municipios.merge(pop_municipios, on = \"City\")"
      ],
      "metadata": {
        "id": "YmXMC5NLeSM5"
      },
      "execution_count": null,
      "outputs": []
    },
    {
      "cell_type": "markdown",
      "source": [
        "Calculando o PIB percapita com 2 casas decimais e criando a coluna"
      ],
      "metadata": {
        "id": "t7zK8FRsff5S"
      }
    },
    {
      "cell_type": "code",
      "source": [
        "dados_municipios[\"pip per capta\"] = dados_municipios[\"pib\"] / dados_municipios[\"pop\"]\n",
        "dados_municipios[\"pip per capta\"] = dados_municipios[\"pip per capta\"].round(2)\n"
      ],
      "metadata": {
        "id": "aqU-L4mBfgna"
      },
      "execution_count": null,
      "outputs": []
    },
    {
      "cell_type": "markdown",
      "source": [
        "Separando UF de City"
      ],
      "metadata": {
        "id": "LD_2RBRbgtli"
      }
    },
    {
      "cell_type": "code",
      "source": [
        "# dados_municipios[[\"City\", \"UF\"]] = dados_municipios[\"City\"].str.split(\"(\", expand=True)"
      ],
      "metadata": {
        "id": "Nu0Sf0S4g0mH"
      },
      "execution_count": null,
      "outputs": []
    },
    {
      "cell_type": "markdown",
      "source": [
        "Removendo \")\" de UF"
      ],
      "metadata": {
        "id": "QjufOcoXmaz6"
      }
    },
    {
      "cell_type": "code",
      "source": [
        "dados_municipios[\"UF\"] = dados_municipios[\"UF\"].str.rstrip(\")\")"
      ],
      "metadata": {
        "id": "H5emECqlmsG6"
      },
      "execution_count": null,
      "outputs": []
    },
    {
      "cell_type": "markdown",
      "source": [
        "Renomeando colunas da minha planilha para depois poder usar o merge de acordo com city"
      ],
      "metadata": {
        "id": "Uxm-L1_2PT7b"
      }
    },
    {
      "cell_type": "code",
      "source": [
        "lojas = lojas.rename(columns={\"CIDADE\":\"City\"})\n",
        "lojas = lojas.rename(columns={\"NÚMERO\":\"Cod\"})\n",
        "lojas = lojas.rename(columns={\"ESTADO\":\"UF\"})\n",
        "lojas = lojas.rename(columns={\"RAZÃO SOCIAL\":\"Razao Social\"})"
      ],
      "metadata": {
        "id": "Heuoy0uOPZuC"
      },
      "execution_count": null,
      "outputs": []
    },
    {
      "cell_type": "markdown",
      "source": [
        "Removendo espaços antes de depois da minha string para não occorrer erro na hora de juntar os dados"
      ],
      "metadata": {
        "id": "_bvqcsQ4etVA"
      }
    },
    {
      "cell_type": "code",
      "source": [
        "dados_municipios['City'] = dados_municipios['City'].str.strip()\n",
        "lojas['City'] = lojas['City'].str.strip()"
      ],
      "metadata": {
        "id": "1LNmnOo4PmkS"
      },
      "execution_count": null,
      "outputs": []
    },
    {
      "cell_type": "markdown",
      "source": [
        "Criando a planilha onde pib e pop se juntará a planilha de lojas"
      ],
      "metadata": {
        "id": "cr4JEz7cRSSB"
      }
    },
    {
      "cell_type": "code",
      "source": [
        "lojas_pip_pop = lojas.merge(dados_municipios, on='City')"
      ],
      "metadata": {
        "id": "WUFMR6BRR1eY"
      },
      "execution_count": null,
      "outputs": []
    },
    {
      "cell_type": "markdown",
      "source": [
        "Removendo a coluna \"UF\" a mais que veio da planilha \"dados_municipios\""
      ],
      "metadata": {
        "id": "h5ozBj4lfUAu"
      }
    },
    {
      "cell_type": "code",
      "source": [
        "lojas_pip_pop.drop(columns=[\"UF_y\"])"
      ],
      "metadata": {
        "id": "QPCxJF_0SNdI"
      },
      "execution_count": null,
      "outputs": []
    },
    {
      "cell_type": "markdown",
      "source": [
        "Salvando em excel"
      ],
      "metadata": {
        "id": "_VoYqvtlgI9m"
      }
    },
    {
      "cell_type": "code",
      "source": [
        "lojas_pip_pop.to_excel('/content/drive/MyDrive/ESTUDOS/lojas com PIB e População')"
      ],
      "metadata": {
        "id": "F80esITPgHvz"
      },
      "execution_count": null,
      "outputs": []
    },
    {
      "cell_type": "markdown",
      "source": [
        "Removendo a coluna \"UF\" a mais que veio da planilha \"dados_municipios\""
      ],
      "metadata": {
        "id": "yZ7xH9HbfE0s"
      }
    },
    {
      "cell_type": "code",
      "source": [
        "filtro_municipios_para_lojas = dados_municipios[(dados_municipios[\"pop\"] >= 200000) & (dados_municipios[\"pip per capta\"] >= 60)]\n",
        "filtro_municipios_para_lojas"
      ],
      "metadata": {
        "id": "GvhGI6q9TDvT"
      },
      "execution_count": null,
      "outputs": []
    }
  ]
}